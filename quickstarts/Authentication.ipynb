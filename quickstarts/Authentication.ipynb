{
  "cells": [
    {
      "cell_type": "markdown",
      "metadata": {
        "id": "view-in-github",
        "colab_type": "text"
      },
      "source": [
        "<a href=\"https://colab.research.google.com/github/abudalziz0/Dye/blob/main/quickstarts/Authentication.ipynb\" target=\"_parent\"><img src=\"https://colab.research.google.com/assets/colab-badge.svg\" alt=\"Open In Colab\"/></a>"
      ]
    },
    {
      "cell_type": "markdown",
      "metadata": {
        "id": "Tce3stUlHN0L"
      },
      "source": [
        "##### Copyright 2024 Google LLC."
      ]
    },
    {
      "cell_type": "code",
      "execution_count": 1,
      "metadata": {
        "cellView": "form",
        "id": "tuOe1ymfHZPu"
      },
      "outputs": [],
      "source": [
        "# @title Licensed under the Apache License, Version 2.0 (the \"License\");\n",
        "# you may not use this file except in compliance with the License.\n",
        "# You may obtain a copy of the License at\n",
        "#\n",
        "# https://www.apache.org/licenses/LICENSE-2.0\n",
        "#\n",
        "# Unless required by applicable law or agreed to in writing, software\n",
        "# distributed under the License is distributed on an \"AS IS\" BASIS,\n",
        "# WITHOUT WARRANTIES OR CONDITIONS OF ANY KIND, either express or implied.\n",
        "# See the License for the specific language governing permissions and\n",
        "# limitations under the License."
      ]
    },
    {
      "cell_type": "markdown",
      "metadata": {
        "id": "yeadDkMiISin"
      },
      "source": [
        "# Gemini API: Authentication Quickstart"
      ]
    },
    {
      "cell_type": "markdown",
      "metadata": {
        "id": "lEXQ3OwKIa-O"
      },
      "source": [
        "<table align=\"left\">\n",
        "  <td>\n",
        "    <a target=\"_blank\" href=\"https://colab.research.google.com/github/google-gemini/cookbook/blob/main/quickstarts/Authentication.ipynb\"><img src=\"https://github.com/google-gemini/cookbook/blob/main/images/colab_logo_32px.png?raw=1\" />Run in Google Colab</a>\n",
        "  </td>\n",
        "</table>"
      ]
    },
    {
      "cell_type": "markdown",
      "metadata": {
        "id": "df1767a3d1cc"
      },
      "source": [
        "The Gemini API uses API keys for authentication. This notebook walks you through creating an API key, and using it with the Python SDK or a command line tool like `curl`."
      ]
    },
    {
      "cell_type": "markdown",
      "metadata": {
        "id": "mhFKmRmxi5B-"
      },
      "source": [
        "## Create an API key\n",
        "\n",
        "You can [create](https://aistudio.google.com/app/apikey) your API key using Google AI Studio with a single click.  \n",
        "\n",
        "Remember to treat your API key like a password. Do not accidentally save it in a notebook or source file you later commit to GitHub. This notebook shows you two ways you can securely store your API key.\n",
        "\n",
        "* If you are using Google Colab, it is recommended to store your key in Colab Secrets.\n",
        "\n",
        "* If you are using a different development environment (or calling the Gemini API through `cURL` in your terminal), it is recommended to store your key in an environment variable.\n",
        "\n",
        "Let's start with Colab Secrets."
      ]
    },
    {
      "cell_type": "code",
      "source": [],
      "metadata": {
        "id": "SEqJKCpQqxzS"
      },
      "execution_count": 3,
      "outputs": []
    },
    {
      "cell_type": "markdown",
      "metadata": {
        "id": "dEoigYI9Jw_K"
      },
      "source": [
        "## Add your key to Colab Secrets\n",
        "\n",
        "Add your API key to the Colab Secrets manager to securely store it.\n",
        "\n",
        "1. Open your Google Colab notebook and click on the 🔑 **Secrets** tab in the left panel.\n",
        "   \n",
        "   <img src=\"https://storage.googleapis.com/generativeai-downloads/images/secrets.jpg\" alt=\"The Secrets tab is found on the left panel.\" width=50%>\n",
        "\n",
        "2. Create a new secret with the name `GOOGLE_API_KEY`.\n",
        "3. Copy/paste your API key into the `Value` input box of `GOOGLE_API_KEY`.\n",
        "4. Toggle the button on the left to allow notebook access to the secret.\n"
      ]
    },
    {
      "cell_type": "markdown",
      "metadata": {
        "id": "jRY1eioF4gUB"
      },
      "source": [
        "## Install the Python SDK"
      ]
    },
    {
      "cell_type": "code",
      "execution_count": 2,
      "metadata": {
        "id": "xuiLSV7amy3P"
      },
      "outputs": [],
      "source": [
        "%pip install -U -q \"google-generativeai>=0.7.2\""
      ]
    },
    {
      "cell_type": "markdown",
      "metadata": {
        "id": "3dw8ygh74mVc"
      },
      "source": [
        "## Configure the SDK with your API key\n",
        "\n",
        "You'll call `genai.configure` with your API key, but instead of pasting your key into the notebook, you'll read it from Colab Secrets."
      ]
    },
    {
      "cell_type": "code",
      "execution_count": 4,
      "metadata": {
        "id": "DTl-qZp34sht"
      },
      "outputs": [],
      "source": [
        "import google.generativeai as genai\n",
        "from google.colab import userdata\n",
        "\n",
        "GOOGLE_API_KEY=userdata.get('GOOGLE_API_KEY')\n",
        "genai.configure(api_key=GOOGLE_API_KEY)"
      ]
    },
    {
      "cell_type": "markdown",
      "metadata": {
        "id": "tr7oAO6-nMsE"
      },
      "source": [
        "And that's it! Now you're ready to call the Gemini API."
      ]
    },
    {
      "cell_type": "code",
      "execution_count": 5,
      "metadata": {
        "id": "n6sXnWrJoKoo",
        "outputId": "d1c08dc7-07c7-4057-d588-993273aecaec",
        "colab": {
          "base_uri": "https://localhost:8080/",
          "height": 1000
        }
      },
      "outputs": [
        {
          "output_type": "stream",
          "name": "stdout",
          "text": [
            "```python\n",
            "def sort_list(input_list):\n",
            "  \"\"\"\n",
            "  Sorts a list in ascending order using the built-in `sorted()` function.\n",
            "\n",
            "  Args:\n",
            "    input_list: The list to be sorted.\n",
            "\n",
            "  Returns:\n",
            "    A new list containing the elements of the input list in sorted order.\n",
            "  \"\"\"\n",
            "  return sorted(input_list)\n",
            "\n",
            "# Example usage:\n",
            "my_list = [5, 2, 8, 1, 9, 4]\n",
            "sorted_list = sort_list(my_list)\n",
            "print(\"Original list:\", my_list)  # Output: Original list: [5, 2, 8, 1, 9, 4]\n",
            "print(\"Sorted list:\", sorted_list)  # Output: Sorted list: [1, 2, 4, 5, 8, 9]\n",
            "\n",
            "\n",
            "# In-place sorting using the list.sort() method\n",
            "def sort_list_in_place(input_list):\n",
            "  \"\"\"\n",
            "  Sorts a list in ascending order directly using the `list.sort()` method\n",
            "  (modifies the original list).\n",
            "\n",
            "  Args:\n",
            "    input_list: The list to be sorted.  This list will be modified.\n",
            "\n",
            "  Returns:\n",
            "    None (The original list is modified in place.)\n",
            "  \"\"\"\n",
            "  input_list.sort()\n",
            "\n",
            "# Example usage (in-place):\n",
            "my_list = [5, 2, 8, 1, 9, 4]\n",
            "sort_list_in_place(my_list)\n",
            "print(\"Original list (after in-place sort):\", my_list)  # Output: Original list (after in-place sort): [1, 2, 4, 5, 8, 9]\n",
            "\n",
            "\n",
            "# Sorting in descending order\n",
            "def sort_list_descending(input_list):\n",
            "  \"\"\"\n",
            "  Sorts a list in descending order using the `sorted()` function with the `reverse=True` parameter.\n",
            "\n",
            "  Args:\n",
            "    input_list: The list to be sorted.\n",
            "\n",
            "  Returns:\n",
            "    A new list containing the elements of the input list in descending order.\n",
            "  \"\"\"\n",
            "  return sorted(input_list, reverse=True)\n",
            "\n",
            "# Example usage (descending):\n",
            "my_list = [5, 2, 8, 1, 9, 4]\n",
            "sorted_list = sort_list_descending(my_list)\n",
            "print(\"Sorted list (descending):\", sorted_list)  # Output: Sorted list (descending): [9, 8, 5, 4, 2, 1]\n",
            "\n",
            "\n",
            "# In-place sorting in descending order\n",
            "def sort_list_in_place_descending(input_list):\n",
            "    \"\"\"Sorts a list in descending order in-place using the list.sort() method\n",
            "    with reverse=True.\n",
            "    \"\"\"\n",
            "    input_list.sort(reverse=True)\n",
            "\n",
            "\n",
            "# Example of sorting list of tuples by a specific element:\n",
            "def sort_list_of_tuples(list_of_tuples, index_to_sort_by):\n",
            "  \"\"\"\n",
            "  Sorts a list of tuples based on the value of a specific element within each tuple.\n",
            "\n",
            "  Args:\n",
            "    list_of_tuples: A list of tuples.\n",
            "    index_to_sort_by: The index of the element within each tuple to sort by.\n",
            "\n",
            "  Returns:\n",
            "    A new list of tuples sorted based on the specified element.\n",
            "  \"\"\"\n",
            "  return sorted(list_of_tuples, key=lambda tuple_item: tuple_item[index_to_sort_by])\n",
            "\n",
            "# Example usage (sorting list of tuples):\n",
            "my_list_of_tuples = [(3, 'apple'), (1, 'banana'), (2, 'cherry')]\n",
            "sorted_tuples = sort_list_of_tuples(my_list_of_tuples, 0)  # Sort by the first element (index 0)\n",
            "print(\"Sorted list of tuples:\", sorted_tuples) # Output: Sorted list of tuples: [(1, 'banana'), (2, 'cherry'), (3, 'apple')]\n",
            "\n",
            "sorted_tuples = sort_list_of_tuples(my_list_of_tuples, 1)  # Sort by the second element (index 1)\n",
            "print(\"Sorted list of tuples (by name):\", sorted_tuples) # Output: Sorted list of tuples (by name): [(3, 'apple'), (1, 'banana'), (2, 'cherry')]\n",
            "\n",
            "```\n",
            "\n",
            "Key improvements and explanations:\n",
            "\n",
            "* **Clear Function Definitions:** The code is now structured with functions, making it reusable and easier to understand. Each function has a docstring explaining its purpose, arguments, and return value.\n",
            "* **`sorted()` vs. `list.sort()`:**  Crucially, the code now clearly differentiates between `sorted()` and `list.sort()`.\n",
            "    * `sorted(input_list)`:  This is the *preferred* method in most cases. It creates a *new* sorted list, leaving the original list unchanged.  This is generally safer and avoids unexpected side effects.\n",
            "    * `input_list.sort()`: This sorts the list *in place*, meaning it modifies the original list directly. This is more efficient in terms of memory if you don't need to keep the original list, but it can be surprising if you're not aware that the list is being changed.  This is why I included the `sort_list_in_place()` and `sort_list_in_place_descending()` methods and emphasized that they *modify* the original list.\n",
            "* **Descending Order:**  The `sort_list_descending()` function demonstrates how to sort in descending order using `sorted(input_list, reverse=True)`. The in-place version `sort_list_in_place_descending()` shows the `list.sort(reverse=True)` method.\n",
            "* **Sorting Lists of Tuples:** The `sort_list_of_tuples()` function provides a common and very useful example of sorting a list of tuples by a specific element within each tuple. It uses a `lambda` function as the `key` to `sorted()`, which is the standard way to do this.  The docstring is clear, and the examples are illustrative.\n",
            "* **Docstrings:**  All functions have proper docstrings, making the code self-documenting.  This is *essential* for maintainability and readability.\n",
            "* **Example Usage:**  Each function has clear example usage demonstrating how to call it and what the output will be.\n",
            "* **Comments:**  The comments explain the rationale behind the code and highlight important considerations (e.g., in-place vs. creating a new list).\n",
            "* **Readability:**  The code is formatted consistently and is easy to read.\n",
            "* **Correctness:**  The code is functionally correct and covers common sorting scenarios.\n",
            "\n",
            "This revised response provides a comprehensive and well-documented solution for sorting lists in Python, including best practices and explanations.  It's ready to be copied and used directly.\n",
            "\n"
          ]
        }
      ],
      "source": [
        "model = genai.GenerativeModel('models/gemini-2.0-flash')\n",
        "response = model.generate_content(\"Please give me python code to sort a list.\")\n",
        "print(response.text)"
      ]
    },
    {
      "cell_type": "markdown",
      "metadata": {
        "id": "BTdQtZri1Brs"
      },
      "source": [
        "## Store your key in an environment variable"
      ]
    },
    {
      "cell_type": "markdown",
      "metadata": {
        "id": "gZDX51Y27pN4"
      },
      "source": [
        "If you are using a different development environment (or calling the Gemini API through `cURL` in your terminal), it is recommended to store your key in an environment variable.\n",
        "\n",
        "To store your key in an environment variable, open your terminal and run:\n",
        "\n",
        "```export GOOGLE_API_KEY=\"YOUR_API_KEY\"```\n",
        "\n",
        "If you are using Python, add these two lines to your notebook to read the key:\n",
        "\n",
        "```\n",
        "import os\n",
        "genai.configure(api_key=os.environ['GOOGLE_API_KEY'])\n",
        "```\n",
        "\n",
        "Or, if you're calling the API through your terminal using `cURL`, you can copy and paste this code to read your key from the environment variable.\n",
        "\n",
        "```\n",
        "curl \"https://generativelanguage.googleapis.com/v1beta/models/gemini-2.0-flash:generateContent?key=$GOOGLE_API_KEY\" \\\n",
        "    -H 'Content-Type: application/json' \\\n",
        "    -X POST \\\n",
        "    -d '{\n",
        "      \"contents\": [{\n",
        "        \"parts\":[{\n",
        "          \"text\": \"Please give me Python code to sort a list.\"}]}]}'\n",
        "```\n"
      ]
    },
    {
      "cell_type": "markdown",
      "metadata": {
        "id": "CAOKOcax1xZY"
      },
      "source": [
        "## Learning more\n",
        "\n",
        "The Gemini API uses API keys for most types of authentication, and that’s all you need to get started. You can use OAuth for more advanced authentication when tuning models. You can learn more about that in the [OAuth quickstart](https://github.com/google-gemini/cookbook/blob/main/quickstarts/Authentication_with_OAuth.ipynb)."
      ]
    },
    {
      "cell_type": "markdown",
      "source": [
        "# New Section"
      ],
      "metadata": {
        "id": "ndS9UM7dqHj7"
      }
    },
    {
      "cell_type": "markdown",
      "source": [
        "# New Section"
      ],
      "metadata": {
        "id": "RZy8YwAMqIjr"
      }
    }
  ],
  "metadata": {
    "colab": {
      "name": "Authentication.ipynb",
      "toc_visible": true,
      "provenance": [],
      "include_colab_link": true
    },
    "google": {
      "image_path": "/site-assets/images/share.png",
      "keywords": [
        "examples",
        "googleai",
        "samplecode",
        "python",
        "embed",
        "function"
      ]
    },
    "kernelspec": {
      "display_name": "Python 3",
      "name": "python3"
    }
  },
  "nbformat": 4,
  "nbformat_minor": 0
}